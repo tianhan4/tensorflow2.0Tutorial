{
 "cells": [
  {
   "cell_type": "markdown",
   "metadata": {},
   "source": [
    "## Model\n",
    "This notebook will introduce several different methods to build a model using tf.keras."
   ]
  },
  {
   "cell_type": "code",
   "execution_count": null,
   "metadata": {},
   "outputs": [],
   "source": [
    "import tensorflow as tf\n",
    "import numpy as np \n",
    "from tensorflow import keras\n",
    "from tensorflow.keras import layers\n",
    "import matplotlib.pyplot as plt\n",
    "print(tf.__version__)"
   ]
  },
  {
   "cell_type": "markdown",
   "metadata": {},
   "source": [
    "We will build the same model below with three different methods.\n",
    "![resources/model.PNG](resources/model.PNG)"
   ]
  },
  {
   "cell_type": "markdown",
   "metadata": {},
   "source": [
    "<font size=\"5\">The first method </font>: Sequentially add layers to the end of the model."
   ]
  },
  {
   "cell_type": "code",
   "execution_count": null,
   "metadata": {},
   "outputs": [],
   "source": [
    "cnnModel = keras.Sequential()\n",
    "cnnModel.add(layers.Conv2D(input_shape=[28,28,1],filters = 32, kernel_size = 3, strides = 1,\n",
    "                       activation = 'relu'))\n",
    "cnnModel.add(layers.Conv2D(filters = 32, kernel_size = 3, strides = 1,\n",
    "                       activation = 'relu'))\n",
    "cnnModel.add(layers.MaxPool2D(pool_size = 2, strides = 2))\n",
    "cnnModel.add(layers.Conv2D(filters = 64, kernel_size = 3, strides = 1,\n",
    "                       activation = 'relu'))\n",
    "cnnModel.add(layers.Conv2D(filters = 64, kernel_size = 3, strides = 1,\n",
    "                       activation = 'relu'))\n",
    "cnnModel.add(layers.MaxPool2D(pool_size = 2, strides = 2))\n",
    "cnnModel.add(layers.Flatten())\n",
    "cnnModel.add(layers.Dense(units = 512, activation = 'relu'))\n",
    "cnnModel.add(layers.Dense(units = 10, activation = 'softmax'))\n",
    "cnnModel.summary()"
   ]
  },
  {
   "cell_type": "markdown",
   "metadata": {},
   "source": [
    "<font size=\"5\">The second method </font>: Functional API. A layer instance is callable and returns a tensor, representing the current end of the layer. We can call layers multiple times at the same end/tensor to create multiple parallel layers, and call layer with multiple ends/tensors to merge multiple layers."
   ]
  },
  {
   "cell_type": "code",
   "execution_count": null,
   "metadata": {},
   "outputs": [],
   "source": [
    "inputs = tf.keras.Input(shape=(28,28,1))  # Returns a placeholder tensor\n",
    "x = layers.Conv2D(filters = 32, kernel_size = 3, strides = 1,\n",
    "                       activation = 'relu')(inputs)\n",
    "x = layers.Conv2D(filters = 32, kernel_size = 3, strides = 1,\n",
    "                       activation = 'relu')(x)\n",
    "x = layers.MaxPool2D(pool_size = 2, strides = 2)(x)\n",
    "x = layers.Conv2D(filters = 64, kernel_size = 3, strides = 1,\n",
    "                       activation = 'relu')(x)\n",
    "x = layers.Conv2D(filters = 64, kernel_size = 3, strides = 1,\n",
    "                       activation = 'relu')(x)\n",
    "x = layers.MaxPool2D(pool_size = 2, strides = 2)(x)\n",
    "x = layers.Flatten()(x)\n",
    "x = layers.Dense(units = 512, activation = 'relu')(x)\n",
    "predictions = layers.Dense(units = 10, activation = 'softmax')(x)\n",
    "cnnModel = tf.keras.Model(inputs=inputs, outputs=predictions)\n",
    "cnnModel.summary()"
   ]
  },
  {
   "cell_type": "markdown",
   "metadata": {},
   "source": [
    "<font size=\"5\">The third method </font>: We can create a new model by subclassing tf.keras.Model and defining your own forward pass. Create layers in the __init__ method and set them as attributes of the class instance, then define the forward pass in the call method."
   ]
  },
  {
   "cell_type": "code",
   "execution_count": null,
   "metadata": {},
   "outputs": [],
   "source": [
    "class CNNModel(tf.keras.Model):\n",
    "    def __init__(self):\n",
    "        super(CNNModel, self).__init__(name='my_model')\n",
    "        # Define your layers here.\n",
    "        self.conv1 = layers.Conv2D( filters = 32, kernel_size = 3, strides = 1,\n",
    "                           activation = 'relu')\n",
    "        self.conv2 = layers.Conv2D(filters = 32, kernel_size = 3, strides = 1,\n",
    "                           activation = 'relu')\n",
    "        self.maxpool1 = layers.MaxPool2D(pool_size = 2, strides = 2)\n",
    "        self.conv3 = layers.Conv2D(filters = 64, kernel_size = 3, strides = 1,\n",
    "                           activation = 'relu')\n",
    "        self.conv4 = layers.Conv2D(filters = 64, kernel_size = 3, strides = 1,\n",
    "                           activation = 'relu')\n",
    "        self.maxpool2 = layers.MaxPool2D(pool_size = 2, strides = 2)\n",
    "        self.dense1 = layers.Dense(units = 512, activation = 'relu')\n",
    "        self.dense2 = layers.Dense(units = 10, activation = 'softmax')\n",
    "\n",
    "    def call(self, inputs):\n",
    "        # Define your forward pass here,\n",
    "        # using layers you previously defined (in `__init__`).\n",
    "        x = self.conv1(inputs)\n",
    "        x = self.conv2(x)\n",
    "        x = self.maxpool1(x)\n",
    "        x = self.conv3(x)\n",
    "        x = self.conv4(x)\n",
    "        x = self.maxpool2(x)\n",
    "        x = layers.Flatten()(x)\n",
    "        x = self.dense1(x)\n",
    "        predictions = self.dense2(x)\n",
    "        return predictions\n",
    "cnnModel = CNNModel()\n",
    "cnnModel.build((10,28,28,1))\n",
    "cnnModel.summary()"
   ]
  },
  {
   "cell_type": "code",
   "execution_count": null,
   "metadata": {},
   "outputs": [],
   "source": []
  },
  {
   "cell_type": "code",
   "execution_count": null,
   "metadata": {},
   "outputs": [],
   "source": []
  }
 ],
 "metadata": {
  "kernelspec": {
   "display_name": "Python 3",
   "language": "python",
   "name": "python3"
  },
  "language_info": {
   "codemirror_mode": {
    "name": "ipython",
    "version": 3
   },
   "file_extension": ".py",
   "mimetype": "text/x-python",
   "name": "python",
   "nbconvert_exporter": "python",
   "pygments_lexer": "ipython3",
   "version": "3.7.3"
  }
 },
 "nbformat": 4,
 "nbformat_minor": 2
}
