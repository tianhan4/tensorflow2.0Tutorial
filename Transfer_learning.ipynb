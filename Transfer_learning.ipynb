{
 "cells": [
  {
   "cell_type": "markdown",
   "metadata": {},
   "source": [
    "We have learned how to implement a model and train it from stratch. However, for pratical machine learning tasks, we often reuse popular model architectures and load pre-trained weights on famous large datasets and fine-tune with our own small, specific dataset, which is called transfer learning. In this notebook we will load a pre-trained ConvNet and use it for our own goal."
   ]
  },
  {
   "cell_type": "code",
   "execution_count": null,
   "metadata": {},
   "outputs": [],
   "source": [
    "import tensorflow.keras as keras\n",
    "import tensorflow as tf\n",
    "from tensorflow.keras import layers\n",
    "import matplotlib.pyplot as plt\n",
    "import utils\n",
    "import os"
   ]
  },
  {
   "cell_type": "markdown",
   "metadata": {},
   "source": [
    "You can find famous ConvNets in keras.applications."
   ]
  },
  {
   "cell_type": "code",
   "execution_count": null,
   "metadata": {},
   "outputs": [],
   "source": [
    "baseModel = keras.applications.VGG16(input_shape=(224,224,3), weights='imagenet',include_top=False)"
   ]
  },
  {
   "cell_type": "code",
   "execution_count": null,
   "metadata": {},
   "outputs": [],
   "source": [
    "baseModel.trainable = False\n",
    "cnnModel = keras.Sequential([baseModel,layers.Flatten(),\n",
    "                  layers.Dense(units = 512, activation = 'relu'), \n",
    "                  layers.Dense(units = 3, activation = 'softmax')])\n",
    "cnnModel.summary()\n",
    "print(\"Number of layers in VGG16: \", len(baseModel.layers))"
   ]
  },
  {
   "cell_type": "code",
   "execution_count": null,
   "metadata": {},
   "outputs": [],
   "source": [
    "filenames = []\n",
    "labels = []\n",
    "class_names = ['bird','cat','dog']\n",
    "for filename in os.listdir(\"./data\"):\n",
    "    if filename.startswith(\"bird\"):\n",
    "        labels.append(0)\n",
    "        filenames.append(os.path.join(\"./data\",filename))\n",
    "    elif filename.startswith(\"cat\"):\n",
    "        labels.append(1)\n",
    "        filenames.append(os.path.join(\"./data\",filename))\n",
    "    elif filename.startswith(\"dog\"):\n",
    "        labels.append(2)\n",
    "        filenames.append(os.path.join(\"./data\",filename))\n",
    "print(filenames)\n",
    "print(labels)\n",
    "path_dataset = tf.data.Dataset.from_tensor_slices((filenames, labels))"
   ]
  },
  {
   "cell_type": "code",
   "execution_count": null,
   "metadata": {},
   "outputs": [],
   "source": [
    "def load_and_preprocess_image(filename, label):\n",
    "    raw_image = tf.io.read_file(filename)\n",
    "    image_tensor = tf.image.decode_jpeg(raw_image)\n",
    "    image_tensor = tf.image.resize(image_tensor, [224, 224])\n",
    "    image_tensor /= 255.0\n",
    "    return image_tensor,label"
   ]
  },
  {
   "cell_type": "code",
   "execution_count": null,
   "metadata": {},
   "outputs": [],
   "source": [
    "imageDataset = path_dataset.map(load_and_preprocess_image)\n",
    "trainDataset = imageDataset.take(int(len(filenames)* 0.7))\n",
    "testDataset = imageDataset.skip(int(len(filenames)* 0.7))"
   ]
  },
  {
   "cell_type": "code",
   "execution_count": null,
   "metadata": {},
   "outputs": [],
   "source": [
    "cnnModel.compile(optimizer=keras.optimizers.RMSprop(learning_rate=0.0001),\n",
    "             loss=keras.losses.SparseCategoricalCrossentropy(),\n",
    "              metrics=['accuracy'])"
   ]
  },
  {
   "cell_type": "code",
   "execution_count": null,
   "metadata": {},
   "outputs": [],
   "source": [
    "callbacks = [\n",
    "    tf.keras.callbacks.EarlyStopping(patience=2, monitor='val_loss'),\n",
    "    tf.keras.callbacks.ModelCheckpoint('.mdl_wts.hdf5', save_best_only=True, monitor='val_loss', mode='min')\n",
    "]\n",
    "history = cnnModel.fit(trainDataset.shuffle(5).batch(5), epochs=20, validation_data=testDataset.repeat().batch(10), validation_steps=10, callbacks = callbacks)"
   ]
  },
  {
   "cell_type": "code",
   "execution_count": null,
   "metadata": {},
   "outputs": [],
   "source": [
    "# history record the accuracy/loss on training set/validation set after every epoch \n",
    "plt.plot(history.history['accuracy'])\n",
    "plt.plot(history.history['val_accuracy'])\n",
    "plt.legend(['training', 'valivation'], loc='upper left')\n",
    "plt.show()"
   ]
  },
  {
   "cell_type": "code",
   "execution_count": null,
   "metadata": {},
   "outputs": [],
   "source": [
    "result = cnnModel.evaluate(testDataset.batch(10))"
   ]
  },
  {
   "cell_type": "code",
   "execution_count": null,
   "metadata": {},
   "outputs": [],
   "source": [
    "predict_result = tf.argmax(cnnModel.predict(testDataset.take(9).batch(9)),axis=1)"
   ]
  },
  {
   "cell_type": "code",
   "execution_count": null,
   "metadata": {},
   "outputs": [],
   "source": [
    "predict_result.numpy()"
   ]
  },
  {
   "cell_type": "code",
   "execution_count": null,
   "metadata": {},
   "outputs": [],
   "source": [
    "utils.show_images(testDataset, class_names, predict_result)"
   ]
  },
  {
   "cell_type": "code",
   "execution_count": null,
   "metadata": {},
   "outputs": [],
   "source": []
  },
  {
   "cell_type": "code",
   "execution_count": null,
   "metadata": {},
   "outputs": [],
   "source": []
  }
 ],
 "metadata": {
  "kernelspec": {
   "display_name": "Python 3",
   "language": "python",
   "name": "python3"
  },
  "language_info": {
   "codemirror_mode": {
    "name": "ipython",
    "version": 3
   },
   "file_extension": ".py",
   "mimetype": "text/x-python",
   "name": "python",
   "nbconvert_exporter": "python",
   "pygments_lexer": "ipython3",
   "version": "3.7.3"
  }
 },
 "nbformat": 4,
 "nbformat_minor": 2
}
