{
 "cells": [
  {
   "cell_type": "markdown",
   "metadata": {},
   "source": [
    "## Data\n",
    "In this notebook, we will go through several methods to load image data in Tensorflow for training, evaluation and prediction.\n",
    "The MNIST database of handwritten digits, one of the most widely used datasets for machine learning research is used. It is a collection of images that are commonly used to train machine learning and computer vision algorithms. The MNIST dataset contains 70,000 28*28 images for  handwritten digits from 0 to 9. 60000 for training and 10000 for testing.\n",
    "![resources/MnistExamples.png](resources/MnistExamples.png)\n",
    "<sub>Source: https://en.wikipedia.org/wiki/MNIST_database</sub>\n",
    "\n",
    "tf.keras has provided built-in methods to download and load several famous datasets, including MNIST. Then we will learn how to use tf.data.Dataset to packing images and labels together. tf.data.Dataset is the best way to stream training data from disk. Datasets are iterables (not iterators), and work just like other Python iterables in Eager mode. "
   ]
  },
  {
   "cell_type": "code",
   "execution_count": null,
   "metadata": {},
   "outputs": [],
   "source": [
    "import tensorflow as tf\n",
    "import numpy as np\n",
    "import utils\n",
    "from tensorflow import keras\n",
    "from tensorflow.keras import layers\n",
    "import matplotlib.pyplot as plt\n",
    "print(tf.__version__)\n",
    "%matplotlib inline"
   ]
  },
  {
   "cell_type": "code",
   "execution_count": null,
   "metadata": {},
   "outputs": [],
   "source": [
    "class_names = ['0', '1', '2', '3', '4', '5', '6', '7', '8', '9']"
   ]
  },
  {
   "cell_type": "markdown",
   "metadata": {},
   "source": [
    "<font size=\"5\">The first method </font>: Use tensorflow.keras.datasets to load data, which can be used directly in training/evaluation/prediction."
   ]
  },
  {
   "cell_type": "code",
   "execution_count": null,
   "metadata": {},
   "outputs": [],
   "source": [
    "(x_train, y_train), (x_test, y_test) = keras.datasets.mnist.load_data()\n",
    "print(x_train.shape, ' ', y_train.shape)\n",
    "print(x_test.shape, ' ', y_test.shape)"
   ]
  },
  {
   "cell_type": "code",
   "execution_count": null,
   "metadata": {},
   "outputs": [],
   "source": [
    "x_train = x_train.astype('float32').reshape((-1,28,28,1))\n",
    "x_test = x_test.astype('float32').reshape((-1,28,28,1))\n",
    "x_train /= 255.0\n",
    "x_test /= 255.0\n",
    "trainDataset = tf.data.Dataset.from_tensor_slices((x_train, y_train))"
   ]
  },
  {
   "cell_type": "code",
   "execution_count": null,
   "metadata": {},
   "outputs": [],
   "source": [
    "utils.show_images(trainDataset, class_names)"
   ]
  },
  {
   "cell_type": "markdown",
   "metadata": {},
   "source": [
    "<font size=\"5\">The second method </font>: When you want to use some your own pictures to perform machine learning tasks."
   ]
  },
  {
   "cell_type": "code",
   "execution_count": null,
   "metadata": {},
   "outputs": [],
   "source": [
    "import os\n",
    "\n",
    "filenames = []\n",
    "labels = []\n",
    "class_names = ['bird','cat','dog']\n",
    "\n",
    "for filename in os.listdir(\"./data\"):\n",
    "    filenames.append(os.path.join(\"./data\",filename))\n",
    "    if filename.startswith(\"bird\"):\n",
    "        labels.append(0)\n",
    "    elif filename.startswith(\"cat\"):\n",
    "        labels.append(1)\n",
    "    else:\n",
    "        labels.append(2)\n",
    "print(filenames)\n",
    "print(labels)"
   ]
  },
  {
   "cell_type": "code",
   "execution_count": null,
   "metadata": {},
   "outputs": [],
   "source": [
    "path_dataset = tf.data.Dataset.from_tensor_slices((filenames, labels))"
   ]
  },
  {
   "cell_type": "code",
   "execution_count": null,
   "metadata": {},
   "outputs": [],
   "source": [
    "for path in path_dataset:\n",
    "    print(path)"
   ]
  },
  {
   "cell_type": "code",
   "execution_count": null,
   "metadata": {},
   "outputs": [],
   "source": [
    "def load_and_preprocess_image(filename, label):\n",
    "    raw_image = tf.io.read_file(filename)\n",
    "    image_tensor = tf.image.decode_jpeg(raw_image)\n",
    "    image_tensor = tf.image.resize(image_tensor, [224, 224])\n",
    "    image_tensor /= 255.0\n",
    "    return image_tensor,label"
   ]
  },
  {
   "cell_type": "code",
   "execution_count": null,
   "metadata": {},
   "outputs": [],
   "source": [
    "trainDataset = path_dataset.map(load_and_preprocess_image)"
   ]
  },
  {
   "cell_type": "code",
   "execution_count": null,
   "metadata": {},
   "outputs": [],
   "source": [
    "utils.show_images(trainDataset, class_names)"
   ]
  },
  {
   "cell_type": "code",
   "execution_count": null,
   "metadata": {},
   "outputs": [],
   "source": []
  }
 ],
 "metadata": {
  "kernelspec": {
   "display_name": "Python 3",
   "language": "python",
   "name": "python3"
  },
  "language_info": {
   "codemirror_mode": {
    "name": "ipython",
    "version": 3
   },
   "file_extension": ".py",
   "mimetype": "text/x-python",
   "name": "python",
   "nbconvert_exporter": "python",
   "pygments_lexer": "ipython3",
   "version": "3.7.3"
  }
 },
 "nbformat": 4,
 "nbformat_minor": 2
}
