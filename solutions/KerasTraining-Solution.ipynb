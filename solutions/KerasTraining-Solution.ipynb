{
 "cells": [
  {
   "cell_type": "markdown",
   "metadata": {},
   "source": [
    "Hi everyone! This is the notebook we will use tf.Keras to train/evaluate/predict a classifer for cat/dog/bird with convolutional layers. With tf.Keras things become very simple all we have to do is to combine codes from previous notebooks!"
   ]
  },
  {
   "cell_type": "code",
   "execution_count": null,
   "metadata": {},
   "outputs": [],
   "source": [
    "import tensorflow as tf\n",
    "import numpy as np\n",
    "from tensorflow import keras\n",
    "from tensorflow.keras import layers\n",
    "import matplotlib.pyplot as plt\n",
    "import utils\n",
    "import os\n",
    "\n",
    "print(tf.__version__)"
   ]
  },
  {
   "cell_type": "code",
   "execution_count": null,
   "metadata": {},
   "outputs": [],
   "source": [
    "class_names = ['bird','cat','dog']"
   ]
  },
  {
   "cell_type": "markdown",
   "metadata": {},
   "source": [
    "Preparing Data"
   ]
  },
  {
   "cell_type": "code",
   "execution_count": null,
   "metadata": {},
   "outputs": [],
   "source": [
    "filenames = []\n",
    "labels = []\n",
    "for filename in os.listdir(\"./data\"):\n",
    "    filenames.append(os.path.join(\"./data\",filename))\n",
    "    if filename.startswith(\"bird\"):\n",
    "        labels.append(0)\n",
    "    elif filename.startswith(\"cat\"):\n",
    "        labels.append(1)\n",
    "    else:\n",
    "        labels.append(2)\n",
    "print(filenames)\n",
    "print(labels)"
   ]
  },
  {
   "cell_type": "code",
   "execution_count": null,
   "metadata": {},
   "outputs": [],
   "source": [
    "path_dataset = tf.data.Dataset.from_tensor_slices((filenames, labels))\n",
    "\n",
    "def load_and_preprocess_image(filename, label):\n",
    "    raw_image = tf.io.read_file(filename)\n",
    "    image_tensor = tf.image.decode_jpeg(raw_image)\n",
    "    image_tensor = tf.image.resize(image_tensor, [224, 224])\n",
    "    image_tensor /= 255.0\n",
    "    return image_tensor,label\n",
    "imageDataset = path_dataset.map(load_and_preprocess_image)"
   ]
  },
  {
   "cell_type": "code",
   "execution_count": null,
   "metadata": {},
   "outputs": [],
   "source": [
    "trainDataset = imageDataset.take(int(len(filenames)* 0.7))\n",
    "testDataset = imageDataset.skip(int(len(filenames)* 0.7))"
   ]
  },
  {
   "cell_type": "markdown",
   "metadata": {},
   "source": [
    "Preparing Model"
   ]
  },
  {
   "cell_type": "code",
   "execution_count": null,
   "metadata": {},
   "outputs": [],
   "source": [
    "cnnModel = keras.Sequential()\n",
    "cnnModel.add(layers.Conv2D(input_shape=[224,224,3],filters = 32, kernel_size = 4, strides = 1,\n",
    "                       activation = 'relu'))\n",
    "cnnModel.add(layers.Conv2D(filters = 32, kernel_size = 4, strides = 1,\n",
    "                       activation = 'relu'))\n",
    "cnnModel.add(layers.MaxPool2D(pool_size = 4, strides = 4))\n",
    "cnnModel.add(layers.Dropout(0.3))\n",
    "cnnModel.add(layers.Conv2D(filters = 64, kernel_size = 4, strides = 1,\n",
    "                       activation = 'relu'))\n",
    "cnnModel.add(layers.Conv2D(filters = 64, kernel_size = 4, strides = 1,\n",
    "                       activation = 'relu'))\n",
    "cnnModel.add(layers.MaxPool2D(pool_size = 4, strides = 4))\n",
    "cnnModel.add(layers.Dropout(0.3))\n",
    "cnnModel.add(layers.Conv2D(filters = 128, kernel_size = 4, strides = 1,\n",
    "                       activation = 'relu'))\n",
    "cnnModel.add(layers.Conv2D(filters = 128, kernel_size = 4, strides = 1,\n",
    "                       activation = 'relu'))\n",
    "cnnModel.add(layers.MaxPool2D(pool_size = 2, strides = 2))\n",
    "cnnModel.add(layers.Dropout(0.3))\n",
    "cnnModel.add(layers.Flatten())\n",
    "cnnModel.add(layers.Dense(units = 512, activation = 'relu'))\n",
    "cnnModel.add(layers.Dense(units = 3, activation = 'softmax'))\n",
    "cnnModel.summary()"
   ]
  },
  {
   "cell_type": "markdown",
   "metadata": {},
   "source": [
    "Compiling Model"
   ]
  },
  {
   "cell_type": "markdown",
   "metadata": {},
   "source": [
    "                                                                                                                                               "
   ]
  },
  {
   "cell_type": "code",
   "execution_count": null,
   "metadata": {},
   "outputs": [],
   "source": [
    "cnnModel.compile(optimizer=keras.optimizers.RMSprop(learning_rate=0.0001),\n",
    "             loss=keras.losses.SparseCategoricalCrossentropy(),\n",
    "              metrics=['accuracy'])"
   ]
  },
  {
   "cell_type": "markdown",
   "metadata": {},
   "source": [
    "Training Procedure"
   ]
  },
  {
   "cell_type": "code",
   "execution_count": null,
   "metadata": {},
   "outputs": [],
   "source": [
    "callbacks = [\n",
    "    tf.keras.callbacks.EarlyStopping(patience=2, monitor='val_loss'),\n",
    "    tf.keras.callbacks.ModelCheckpoint('.mdl_wts.hdf5', save_best_only=True, monitor='val_loss', mode='min')\n",
    "]\n",
    "history = cnnModel.fit(trainDataset.shuffle(5).repeat().batch(5), epochs=20, steps_per_epoch=50, validation_data=testDataset.repeat().batch(10), validation_steps=10, callbacks = callbacks)"
   ]
  },
  {
   "cell_type": "code",
   "execution_count": null,
   "metadata": {},
   "outputs": [],
   "source": [
    "# history record the accuracy/loss on training set/validation set after every epoch \n",
    "plt.plot(history.history['accuracy'])\n",
    "plt.plot(history.history['val_accuracy'])\n",
    "plt.legend(['training', 'valivation'], loc='upper left')\n",
    "plt.show()"
   ]
  },
  {
   "cell_type": "markdown",
   "metadata": {},
   "source": [
    "You must set the batch_size for the dataset before sending it to the model for training/evaluation."
   ]
  },
  {
   "cell_type": "code",
   "execution_count": null,
   "metadata": {},
   "outputs": [],
   "source": [
    "result = cnnModel.evaluate(testDataset.batch(10))"
   ]
  },
  {
   "cell_type": "code",
   "execution_count": null,
   "metadata": {},
   "outputs": [],
   "source": [
    "result"
   ]
  },
  {
   "cell_type": "markdown",
   "metadata": {},
   "source": [
    "Prediction Phase"
   ]
  },
  {
   "cell_type": "code",
   "execution_count": null,
   "metadata": {},
   "outputs": [],
   "source": [
    "predict_result = tf.argmax(cnnModel.predict(testDataset.take(9).batch(9)),axis=1)"
   ]
  },
  {
   "cell_type": "code",
   "execution_count": null,
   "metadata": {},
   "outputs": [],
   "source": [
    "predict_result.numpy()"
   ]
  },
  {
   "cell_type": "code",
   "execution_count": null,
   "metadata": {},
   "outputs": [],
   "source": [
    "utils.show_images(testDataset, class_names, predict_result)"
   ]
  },
  {
   "cell_type": "code",
   "execution_count": null,
   "metadata": {},
   "outputs": [],
   "source": []
  }
 ],
 "metadata": {
  "kernelspec": {
   "display_name": "Python 3",
   "language": "python",
   "name": "python3"
  },
  "language_info": {
   "codemirror_mode": {
    "name": "ipython",
    "version": 3
   },
   "file_extension": ".py",
   "mimetype": "text/x-python",
   "name": "python",
   "nbconvert_exporter": "python",
   "pygments_lexer": "ipython3",
   "version": "3.7.3"
  }
 },
 "nbformat": 4,
 "nbformat_minor": 2
}
